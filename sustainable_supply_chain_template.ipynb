{
 "cells": [
  {
   "cell_type": "markdown",
   "metadata": {},
   "source": [
    "For background information, refer to the ReadMe on github\n",
    "* https://github.com/wpbSabi/sustainable_supply_chain"
   ]
  },
  {
   "cell_type": "code",
   "execution_count": null,
   "metadata": {
    "ExecuteTime": {
     "end_time": "2023-04-19T02:05:24.005250Z",
     "start_time": "2023-04-19T02:05:18.426820Z"
    }
   },
   "outputs": [],
   "source": [
    "# !pip install -U googlemaps \n",
    "import folium\n",
    "import numpy as np\n",
    "import pandas as pd\n",
    "import googlemaps"
   ]
  },
  {
   "cell_type": "markdown",
   "metadata": {},
   "source": [
    "# Data"
   ]
  },
  {
   "cell_type": "markdown",
   "metadata": {},
   "source": [
    "## Geocoding"
   ]
  },
  {
   "cell_type": "markdown",
   "metadata": {},
   "source": [
    "My first choice would have been to use geopy / nominatum to obtain latitudes and longitudes based on city names. However, there was an issue on April 8, 2023 with one of the services geopy relies on.  The good news is that on April 18, 2023 the service was running again.\n",
    "* https://geopy.readthedocs.io/en/stable/"
   ]
  },
  {
   "cell_type": "code",
   "execution_count": null,
   "metadata": {
    "ExecuteTime": {
     "end_time": "2023-04-19T01:45:27.539051Z",
     "start_time": "2023-04-19T01:45:27.535376Z"
    }
   },
   "outputs": [],
   "source": [
    "# from geopy.geocoders import Nominatim # OpenStreetMap API for geocoding\n",
    "# geolocator = Nominatim(user_agent=\"april_8\")\n",
    "# city = \"Chicago\"\n",
    "# country = \"USA\"\n",
    "# loc = geolocator.geocode(city + ',' + country)\n",
    "# print(\"latitude is: \", loc.latitude, \"\\nlongtitude is:-\", loc.longitude)"
   ]
  },
  {
   "cell_type": "markdown",
   "metadata": {},
   "source": [
    "Instead, I signed up for a google maps api"
   ]
  },
  {
   "cell_type": "code",
   "execution_count": 4,
   "metadata": {
    "ExecuteTime": {
     "end_time": "2023-04-19T02:07:25.733788Z",
     "start_time": "2023-04-19T02:07:24.302588Z"
    }
   },
   "outputs": [],
   "source": [
    "import googlemaps\n",
    "import pandas as pd\n",
    "gmaps_key = googlemaps.Client(key='<YOUR_KEY_HERE')\n",
    "\n",
    "# Import or set format for data\n",
    "df = pd.read_csv('data/location_lat_long.csv')\n",
    "# Create a list, to retrieve multiple locations at a time\n",
    "list_of_cities = ['Salt Lake City, Utah',\n",
    "                  'New Orleans, Louisiana',\n",
    "                  'Hartford, Connecticut',\n",
    "                  'Buffalo, New York',\n",
    "                  'Birmingham, Alabama']\n",
    "for city in list_of_cities:\n",
    "    g = gmaps_key.geocode(city)\n",
    "    address = g[0]['formatted_address']\n",
    "    lat = g[0]['geometry']['location']['lat']\n",
    "    long = g[0]['geometry']['location']['lng']\n",
    "    df.loc[len(df), 'location'] = address\n",
    "    df.loc[len(df) - 1, 'latitude'] = lat\n",
    "    df.loc[len(df) - 1, 'longitude'] = long"
   ]
  },
  {
   "cell_type": "code",
   "execution_count": null,
   "metadata": {
    "ExecuteTime": {
     "end_time": "2023-04-18T02:36:37.740412Z",
     "start_time": "2023-04-18T02:36:37.732061Z"
    }
   },
   "outputs": [],
   "source": [
    "def map_locations(df):\n",
    "    # Verify the new data by creating a map (or look at the df)\n",
    "    m = folium.Map([40, -95],  zoom_start=4)\n",
    "    # Add orange circles\n",
    "    for i in range(len(df)): folium.CircleMarker(\n",
    "        location=[df.iloc[i]['latitude'],\n",
    "                df.iloc[i]['longitude']],\n",
    "        tooltip=df.iloc[i]['location'],\n",
    "        color='orange',\n",
    "        fill=True,\n",
    "        fill_opacity=0.7,\n",
    "        radius=5 # df.iloc[i]['demand_fix'] #5 #df.iloc[i]['Demand FY21']\n",
    "        ).add_to(m)\n",
    "    # To enable the toggle between map base layers\n",
    "    folium.TileLayer('OpenStreetMap').add_to(m)\n",
    "    folium.TileLayer('Stamen Terrain').add_to(m)\n",
    "    folium.TileLayer('Stamen Toner').add_to(m)\n",
    "    folium.TileLayer('Stamen Water Color').add_to(m)\n",
    "    folium.TileLayer('CartoDB positron').add_to(m)\n",
    "    folium.TileLayer('CartoDB dark_matter').add_to(m)\n",
    "    folium.LayerControl().add_to(m)\n",
    "    # m.save('images/python_folium_bubble_map.html')\n",
    "    return m"
   ]
  },
  {
   "cell_type": "code",
   "execution_count": null,
   "metadata": {
    "ExecuteTime": {
     "end_time": "2023-04-18T02:36:38.042751Z",
     "start_time": "2023-04-18T02:36:37.755079Z"
    }
   },
   "outputs": [],
   "source": [
    "map_locations(lat_long_data)"
   ]
  },
  {
   "cell_type": "code",
   "execution_count": null,
   "metadata": {
    "ExecuteTime": {
     "end_time": "2023-04-18T02:36:38.055641Z",
     "start_time": "2023-04-18T02:36:38.047959Z"
    }
   },
   "outputs": [],
   "source": [
    "# # (Option) One location at a time with all components \n",
    "# # city_state = 'Seattle, Washington'\n",
    "# # g = gmaps_key.geocode(city_state)\n",
    "# g = \\\n",
    "# [{'address_components': [{'long_name': 'Portland',\n",
    "#     'short_name': 'Portland',\n",
    "#     'types': ['locality', 'political']},\n",
    "#    {'long_name': 'Multnomah County',\n",
    "#     'short_name': 'Multnomah County',\n",
    "#     'types': ['administrative_area_level_2', 'political']},\n",
    "#    {'long_name': 'Oregon',\n",
    "#     'short_name': 'OR',\n",
    "#     'types': ['administrative_area_level_1', 'political']},\n",
    "#    {'long_name': 'United States',\n",
    "#     'short_name': 'US',\n",
    "#     'types': ['country', 'political']}],\n",
    "#   'formatted_address': 'Portland, OR, USA',\n",
    "#   'geometry': {'bounds': {'northeast': {'lat': 45.652886, 'lng': -122.4720384},\n",
    "#     'southwest': {'lat': 45.4325419, 'lng': -122.8367638}},\n",
    "#    'location': {'lat': 45.515232, 'lng': -122.6783853},\n",
    "#    'location_type': 'APPROXIMATE',\n",
    "#    'viewport': {'northeast': {'lat': 45.652886, 'lng': -122.4720384},\n",
    "#     'southwest': {'lat': 45.4325419, 'lng': -122.8367638}}},\n",
    "#   'place_id': 'ChIJJ3SpfQsLlVQRkYXR9ua5Nhw',\n",
    "#   'types': ['locality', 'political']}]"
   ]
  },
  {
   "cell_type": "code",
   "execution_count": null,
   "metadata": {
    "ExecuteTime": {
     "end_time": "2023-04-18T02:36:38.069905Z",
     "start_time": "2023-04-18T02:36:38.065970Z"
    }
   },
   "outputs": [],
   "source": [
    "# Overwrite the data file with the updates\n",
    "# df.to_csv('data/location_lat_long.csv', index=False)"
   ]
  },
  {
   "cell_type": "markdown",
   "metadata": {},
   "source": [
    "## Greatest Circle Distance (GCD)"
   ]
  },
  {
   "cell_type": "code",
   "execution_count": null,
   "metadata": {},
   "outputs": [],
   "source": [
    "lat_long_data = pd.read_csv('data/location_lat_long.csv')"
   ]
  },
  {
   "cell_type": "code",
   "execution_count": null,
   "metadata": {
    "ExecuteTime": {
     "end_time": "2023-04-18T02:36:38.086464Z",
     "start_time": "2023-04-18T02:36:38.076262Z"
    }
   },
   "outputs": [],
   "source": [
    "def haversine_distance(lat1, \n",
    "                       lon1, \n",
    "                       lat2, \n",
    "                       lon2):\n",
    "    \"\"\"\n",
    "    Calculate the greatest circle distance between two points on Earth\n",
    "    \n",
    "    Utilizes the haversine calculation via latitude and longitude data\n",
    "    \"\"\"\n",
    "    r = 6371\n",
    "    phi1 = np.radians(lat1)\n",
    "    phi2 = np.radians(lat2)\n",
    "    delta_phi = np.radians(lat2 - lat1)\n",
    "    delta_lambda = np.radians(lon2 - lon1)\n",
    "    a = np.sin(delta_phi / 2) ** 2 \\\n",
    "        + np.cos(phi1) * np.cos(phi2) * np.sin(delta_lambda / 2) ** 2\n",
    "    res = r * (2 * np.arctan2(np.sqrt(a), np.sqrt(1 - a)))\n",
    "    return np.round(res, 2)"
   ]
  },
  {
   "cell_type": "code",
   "execution_count": null,
   "metadata": {
    "ExecuteTime": {
     "end_time": "2023-04-18T02:36:38.112706Z",
     "start_time": "2023-04-18T02:36:38.093228Z"
    }
   },
   "outputs": [],
   "source": [
    "lat_long_data.loc[0]"
   ]
  },
  {
   "cell_type": "code",
   "execution_count": null,
   "metadata": {
    "ExecuteTime": {
     "end_time": "2023-04-18T02:36:38.136800Z",
     "start_time": "2023-04-18T02:36:38.117855Z"
    }
   },
   "outputs": [],
   "source": [
    "# portland to boise, used in the greenhouse gas example, about right\n",
    "haversine_distance(lat_long_data.loc[0, 'latitude'],\n",
    "                   lat_long_data.loc[0, 'longitude'],\n",
    "                   43.6150,\n",
    "                   -116.2023)"
   ]
  },
  {
   "cell_type": "code",
   "execution_count": null,
   "metadata": {
    "ExecuteTime": {
     "end_time": "2023-04-18T02:36:38.184117Z",
     "start_time": "2023-04-18T02:36:38.144997Z"
    }
   },
   "outputs": [],
   "source": [
    "# Could wrap the following into a function\n",
    "def create_cartesian(df):\n",
    "    \"\"\"\n",
    "    Creates a data frame of the possible Origin / Destination pairs\n",
    "\n",
    "    \"\"\"\n",
    "    origins = df # [['location']].drop_duplicates()\n",
    "    destinations = df #[['location']].drop_duplicates()\n",
    "    combinations = origins.merge(destinations, how='cross')\n",
    "    return combinations\n",
    "origin_destination_pairs = create_cartesian(lat_long_data)"
   ]
  },
  {
   "cell_type": "code",
   "execution_count": null,
   "metadata": {
    "ExecuteTime": {
     "end_time": "2023-04-18T02:36:38.496739Z",
     "start_time": "2023-04-18T02:36:38.191872Z"
    }
   },
   "outputs": [],
   "source": [
    "# Could wrap the following into this function instead\n",
    "def calculate_distances(df):\n",
    "    \"\"\"\n",
    "    Utilize haversine_distance() and the df for origin / destination pairs\n",
    "    \n",
    "    Calculate the distances between all origin / destination pairs\n",
    "    \"\"\"\n",
    "    df['distance'] = df\\\n",
    "    .apply(lambda x: haversine_distance(x['latitude_x'],\n",
    "                   x['longitude_x'],\n",
    "                   x['latitude_y'],\n",
    "                   x['longitude_y']),\n",
    "          axis=1)\n",
    "\n",
    "    # For shipments within a city, set the distance to 10 miles\n",
    "    df['distance'] = np.where(\n",
    "        df['location_x']==df['location_y'],\n",
    "        10,\n",
    "        df['distance']\n",
    "    )\n",
    "    # Choosing not to remove the shipments within a city\n",
    "    # combinations = combinations[combinations['distance']>0]\\\n",
    "    #  .reset_index(drop=True)\n",
    "    return df \n",
    "\n",
    "distance_between_od_pairs = calculate_distances(origin_destination_pairs)"
   ]
  },
  {
   "cell_type": "markdown",
   "metadata": {},
   "source": [
    "## Scenarios / Greenhouse gas calculations\n",
    "Create shipments for scenarios, and assumptions:\n",
    "* 0.36 grams co2e per mile for parcels shipments or LTL shipments\n",
    "* 400 parcels per truck / shipment\n",
    "* DC footprint - 443,000 grams co2e per day"
   ]
  },
  {
   "cell_type": "markdown",
   "metadata": {},
   "source": [
    "### One Distribution Center"
   ]
  },
  {
   "cell_type": "code",
   "execution_count": null,
   "metadata": {
    "ExecuteTime": {
     "end_time": "2023-04-18T02:53:41.976030Z",
     "start_time": "2023-04-18T02:53:41.968081Z"
    }
   },
   "outputs": [],
   "source": [
    "# Scenario 1: Memphis Only\n",
    "# Distribution Center at Memphis\n",
    "# 1 daily shipment to each of the 50 cities\n",
    "scen1 = distance_between_od_pairs[\n",
    "    distance_between_od_pairs['location_x']=='Memphis, TN, USA']\n",
    "co2e_per_mile = 0.36\n",
    "co2e_for_facility = 443000\n",
    "scen1['co2e_shipment'] = scen1['distance'] * co2e_per_mile\n",
    "\n",
    "# Total co2e \n",
    "print(round(sum(scen1['co2e_shipment']) + co2e_for_facility)) \n",
    "# ~466,759 co2e\n",
    "# Print co2e from transportation\n",
    "print(round(sum(scen1['co2e_shipment']))) # 23,759"
   ]
  },
  {
   "cell_type": "code",
   "execution_count": null,
   "metadata": {
    "ExecuteTime": {
     "end_time": "2023-04-18T02:53:12.076268Z",
     "start_time": "2023-04-18T02:53:12.066926Z"
    }
   },
   "outputs": [],
   "source": [
    "# Scenario 2: St Louis Only\n",
    "# Distribution Center at St Louis\n",
    "# 1 daily shipment to each of the 50 cities\n",
    "scen2 = distance_between_od_pairs[\n",
    "    distance_between_od_pairs['location_x']=='St. Louis, MO, USA']\n",
    "co2e_per_mile = 0.36\n",
    "co2e_for_facility_daily = 443000\n",
    "scen2['co2e_shipment'] = scen2['distance'] * co2e_per_mile\n",
    "\n",
    "# Total co2e \n",
    "print(round(sum(scen2['co2e_shipment']) + co2e_for_facility_daily)) \n",
    "# ~466,196 co2e\n",
    "# Print co2e from transportation\n",
    "print(round(sum(scen2['co2e_shipment']))) # 23,197"
   ]
  },
  {
   "cell_type": "code",
   "execution_count": null,
   "metadata": {
    "ExecuteTime": {
     "end_time": "2023-04-18T02:52:36.138637Z",
     "start_time": "2023-04-18T02:52:36.128970Z"
    }
   },
   "outputs": [],
   "source": [
    "# Scenario 3: Seattle Only\n",
    "# Distribution Center at Seattle (probably the worst choice)\n",
    "# 1 daily shipment to each of the 50 cities\n",
    "scen3 = distance_between_od_pairs[\n",
    "    distance_between_od_pairs['location_x']=='Seattle, WA, USA']\n",
    "\n",
    "co2e_per_mile = 0.36\n",
    "co2e_for_facility_daily = 443000\n",
    "scen3['co2e_shipment'] = scen3['distance'] * co2e_per_mile\n",
    "\n",
    "# Total co2e \n",
    "print(round(sum(scen3['co2e_shipment']) + co2e_for_facility_daily)) \n",
    "# ~494,124 co2e\n",
    "# Print co2e from transportation\n",
    "print(round(sum(scen3['co2e_shipment']))) # 51,124"
   ]
  },
  {
   "cell_type": "code",
   "execution_count": null,
   "metadata": {
    "ExecuteTime": {
     "end_time": "2023-04-18T02:44:32.321640Z",
     "start_time": "2023-04-18T02:44:32.317463Z"
    }
   },
   "outputs": [],
   "source": [
    "print((494124 - 466197) / 494124)\n",
    "print((494124 - 466197) / 466197)"
   ]
  },
  {
   "cell_type": "markdown",
   "metadata": {},
   "source": [
    "### Three Distribution Centers"
   ]
  },
  {
   "cell_type": "code",
   "execution_count": null,
   "metadata": {
    "ExecuteTime": {
     "end_time": "2023-04-18T02:49:45.157257Z",
     "start_time": "2023-04-18T02:49:45.150332Z"
    }
   },
   "outputs": [],
   "source": [
    "# Scenario 4: Riverside, Houston, and Columbus\n",
    "# Distribution Center at Seattle (probably the worst choice)\n",
    "# 1 daily shipment to each of the 50 cities\n",
    "s4 = distance_between_od_pairs[\n",
    "    (distance_between_od_pairs['location_x']=='Riverside, CA, USA') | \n",
    "    (distance_between_od_pairs['location_x']=='Houston, TX, USA') | \n",
    "    (distance_between_od_pairs['location_x']=='Columbus, OH, USA')\n",
    "]"
   ]
  },
  {
   "cell_type": "code",
   "execution_count": null,
   "metadata": {
    "ExecuteTime": {
     "end_time": "2023-04-18T02:49:47.069289Z",
     "start_time": "2023-04-18T02:49:47.065216Z"
    }
   },
   "outputs": [],
   "source": [
    "co2e_per_mile = 0.36\n",
    "co2e_per_facility_daily = round(443000 / np.sqrt(3))\n",
    "print('Average facility size:', co2e_per_facility_daily)"
   ]
  },
  {
   "cell_type": "code",
   "execution_count": null,
   "metadata": {
    "ExecuteTime": {
     "end_time": "2023-04-18T02:49:58.560052Z",
     "start_time": "2023-04-18T02:49:58.548968Z"
    }
   },
   "outputs": [],
   "source": [
    "# For each destination, use the closest facility\n",
    "closest = s4[['location_y', 'distance']]\\\n",
    "            .groupby(['location_y'], as_index=False)\\\n",
    "            .min()\n",
    "print(len(s4[s4['distance'].isin(x['distance'])]))\n",
    "scen4 = s4[s4['distance'].isin(x['distance'])]"
   ]
  },
  {
   "cell_type": "code",
   "execution_count": null,
   "metadata": {
    "ExecuteTime": {
     "end_time": "2023-04-18T02:51:33.431953Z",
     "start_time": "2023-04-18T02:51:33.414811Z"
    }
   },
   "outputs": [],
   "source": [
    "scen4['co2e_shipment'] = scen4['distance'] * co2e_per_mile\n",
    "\n",
    "# Print Total co2e \n",
    "print(round(sum(scen4['co2e_shipment']) + (co2e_per_facility_daily * 3)) )\n",
    "# ~778,617 co2e\n",
    "# Print co2e from transportation\n",
    "print(round(sum(scen4['co2e_shipment']))) # 11,319"
   ]
  },
  {
   "cell_type": "code",
   "execution_count": null,
   "metadata": {},
   "outputs": [],
   "source": []
  }
 ],
 "metadata": {
  "kernelspec": {
   "display_name": "Python 3",
   "language": "python",
   "name": "python3"
  },
  "language_info": {
   "codemirror_mode": {
    "name": "ipython",
    "version": 3
   },
   "file_extension": ".py",
   "mimetype": "text/x-python",
   "name": "python",
   "nbconvert_exporter": "python",
   "pygments_lexer": "ipython3",
   "version": "3.8.3"
  },
  "toc": {
   "base_numbering": 1,
   "nav_menu": {},
   "number_sections": true,
   "sideBar": true,
   "skip_h1_title": false,
   "title_cell": "Table of Contents",
   "title_sidebar": "Contents",
   "toc_cell": false,
   "toc_position": {
    "height": "615px",
    "left": "49px",
    "top": "156px",
    "width": "222.391px"
   },
   "toc_section_display": true,
   "toc_window_display": false
  }
 },
 "nbformat": 4,
 "nbformat_minor": 4
}

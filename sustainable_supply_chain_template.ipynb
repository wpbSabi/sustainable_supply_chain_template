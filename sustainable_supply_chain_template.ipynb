{
 "cells": [
  {
   "cell_type": "markdown",
   "metadata": {},
   "source": [
    "For background information, refer to the ReadMe on github\n",
    "* https://github.com/wpbSabi/sustainable_supply_chain"
   ]
  },
  {
   "cell_type": "code",
   "execution_count": 1,
   "metadata": {
    "ExecuteTime": {
     "end_time": "2023-04-19T02:48:25.776717Z",
     "start_time": "2023-04-19T02:48:23.705462Z"
    }
   },
   "outputs": [],
   "source": [
    "# !pip install -U googlemaps \n",
    "import folium\n",
    "import numpy as np\n",
    "import pandas as pd\n",
    "import googlemaps"
   ]
  },
  {
   "cell_type": "markdown",
   "metadata": {},
   "source": [
    "# Data"
   ]
  },
  {
   "cell_type": "markdown",
   "metadata": {},
   "source": [
    "## Geocoding"
   ]
  },
  {
   "cell_type": "markdown",
   "metadata": {},
   "source": [
    "My first choice would have been to use geopy / nominatum to obtain latitudes and longitudes based on city names. However, there was an issue on April 8, 2023 with one of the services geopy relies on.  The good news is that on April 18, 2023 the service was running again.\n",
    "* https://geopy.readthedocs.io/en/stable/"
   ]
  },
  {
   "cell_type": "code",
   "execution_count": null,
   "metadata": {
    "ExecuteTime": {
     "end_time": "2023-04-19T01:45:27.539051Z",
     "start_time": "2023-04-19T01:45:27.535376Z"
    }
   },
   "outputs": [],
   "source": [
    "# from geopy.geocoders import Nominatim # OpenStreetMap API for geocoding\n",
    "# geolocator = Nominatim(user_agent=\"april_8\")\n",
    "# city = \"Chicago\"\n",
    "# country = \"USA\"\n",
    "# loc = geolocator.geocode(city + ',' + country)\n",
    "# print(\"latitude is: \", loc.latitude, \"\\nlongtitude is:-\", loc.longitude)"
   ]
  },
  {
   "cell_type": "markdown",
   "metadata": {},
   "source": [
    "Instead, I signed up for a google maps api"
   ]
  },
  {
   "cell_type": "code",
   "execution_count": 4,
   "metadata": {
    "ExecuteTime": {
     "end_time": "2023-04-19T02:07:25.733788Z",
     "start_time": "2023-04-19T02:07:24.302588Z"
    }
   },
   "outputs": [],
   "source": [
    "# gmaps_key = googlemaps.Client(key='<YOUR_KEY_HERE')\n",
    "\n",
    "# # Import or set format for data\n",
    "# df = pd.read_csv('data/location_lat_long.csv')\n",
    "# # Create a list, to retrieve multiple locations at a time\n",
    "# list_of_cities = ['Salt Lake City, Utah',\n",
    "#                   'New Orleans, Louisiana',\n",
    "#                   'Hartford, Connecticut',\n",
    "#                   'Buffalo, New York',\n",
    "#                   'Birmingham, Alabama']\n",
    "# for city in list_of_cities:\n",
    "#     g = gmaps_key.geocode(city)\n",
    "#     address = g[0]['formatted_address']\n",
    "#     lat = g[0]['geometry']['location']['lat']\n",
    "#     long = g[0]['geometry']['location']['lng']\n",
    "#     df.loc[len(df), 'location'] = address\n",
    "#     df.loc[len(df) - 1, 'latitude'] = lat\n",
    "#     df.loc[len(df) - 1, 'longitude'] = long"
   ]
  },
  {
   "cell_type": "code",
   "execution_count": null,
   "metadata": {
    "ExecuteTime": {
     "end_time": "2023-04-18T02:36:37.740412Z",
     "start_time": "2023-04-18T02:36:37.732061Z"
    }
   },
   "outputs": [],
   "source": [
    "# def map_locations(df):\n",
    "#     # Verify the new data by creating a map (or look at the df)\n",
    "#     m = folium.Map([40, -95],  zoom_start=4)\n",
    "#     # Add orange circles\n",
    "#     for i in range(len(df)): folium.CircleMarker(\n",
    "#         location=[df.iloc[i]['latitude'],\n",
    "#                 df.iloc[i]['longitude']],\n",
    "#         tooltip=df.iloc[i]['location'],\n",
    "#         color='orange',\n",
    "#         fill=True,\n",
    "#         fill_opacity=0.7,\n",
    "#         radius=5 # df.iloc[i]['demand_fix'] #5 #df.iloc[i]['Demand FY21']\n",
    "#         ).add_to(m)\n",
    "#     # To enable the toggle between map base layers\n",
    "#     folium.TileLayer('OpenStreetMap').add_to(m)\n",
    "#     folium.TileLayer('Stamen Terrain').add_to(m)\n",
    "#     folium.TileLayer('Stamen Toner').add_to(m)\n",
    "#     folium.TileLayer('Stamen Water Color').add_to(m)\n",
    "#     folium.TileLayer('CartoDB positron').add_to(m)\n",
    "#     folium.TileLayer('CartoDB dark_matter').add_to(m)\n",
    "#     folium.LayerControl().add_to(m)\n",
    "#     # m.save('images/python_folium_bubble_map.html')\n",
    "#     return m\n",
    "# map_locations(lat_long_data)"
   ]
  },
  {
   "cell_type": "code",
   "execution_count": null,
   "metadata": {
    "ExecuteTime": {
     "end_time": "2023-04-18T02:36:38.069905Z",
     "start_time": "2023-04-18T02:36:38.065970Z"
    }
   },
   "outputs": [],
   "source": [
    "# Overwrite the data file with the updates\n",
    "# df.to_csv('data/location_lat_long.csv', index=False)"
   ]
  },
  {
   "cell_type": "markdown",
   "metadata": {},
   "source": [
    "## Greatest Circle Distance (GCD)"
   ]
  },
  {
   "cell_type": "code",
   "execution_count": 2,
   "metadata": {
    "ExecuteTime": {
     "end_time": "2023-04-19T02:49:21.153637Z",
     "start_time": "2023-04-19T02:49:21.145822Z"
    }
   },
   "outputs": [],
   "source": [
    "lat_long_data = pd.read_csv('data/location_lat_long.csv')"
   ]
  },
  {
   "cell_type": "code",
   "execution_count": 3,
   "metadata": {
    "ExecuteTime": {
     "end_time": "2023-04-19T02:49:24.795665Z",
     "start_time": "2023-04-19T02:49:24.788096Z"
    }
   },
   "outputs": [],
   "source": [
    "def haversine_distance(lat1, \n",
    "                       lon1, \n",
    "                       lat2, \n",
    "                       lon2):\n",
    "    \"\"\"\n",
    "    Calculate the greatest circle distance between two points on Earth\n",
    "    \n",
    "    Utilizes the haversine calculation via latitude and longitude data\n",
    "    \"\"\"\n",
    "    r = 6371\n",
    "    phi1 = np.radians(lat1)\n",
    "    phi2 = np.radians(lat2)\n",
    "    delta_phi = np.radians(lat2 - lat1)\n",
    "    delta_lambda = np.radians(lon2 - lon1)\n",
    "    a = np.sin(delta_phi / 2) ** 2 \\\n",
    "        + np.cos(phi1) * np.cos(phi2) * np.sin(delta_lambda / 2) ** 2\n",
    "    res = r * (2 * np.arctan2(np.sqrt(a), np.sqrt(1 - a)))\n",
    "    return np.round(res, 2)"
   ]
  },
  {
   "cell_type": "code",
   "execution_count": 4,
   "metadata": {
    "ExecuteTime": {
     "end_time": "2023-04-19T02:49:26.388040Z",
     "start_time": "2023-04-19T02:49:26.354613Z"
    }
   },
   "outputs": [
    {
     "data": {
      "text/plain": [
       "location     Portland, OR, USA\n",
       "latitude             45.515232\n",
       "longitude          -122.678385\n",
       "Name: 0, dtype: object"
      ]
     },
     "execution_count": 4,
     "metadata": {},
     "output_type": "execute_result"
    }
   ],
   "source": [
    "lat_long_data.loc[0]"
   ]
  },
  {
   "cell_type": "code",
   "execution_count": 5,
   "metadata": {
    "ExecuteTime": {
     "end_time": "2023-04-19T02:49:27.909781Z",
     "start_time": "2023-04-19T02:49:27.895479Z"
    }
   },
   "outputs": [
    {
     "data": {
      "text/plain": [
       "554.64"
      ]
     },
     "execution_count": 5,
     "metadata": {},
     "output_type": "execute_result"
    }
   ],
   "source": [
    "# portland to boise, used in the greenhouse gas example, about right\n",
    "haversine_distance(lat_long_data.loc[0, 'latitude'],\n",
    "                   lat_long_data.loc[0, 'longitude'],\n",
    "                   43.6150,\n",
    "                   -116.2023)"
   ]
  },
  {
   "cell_type": "code",
   "execution_count": 6,
   "metadata": {
    "ExecuteTime": {
     "end_time": "2023-04-19T02:49:31.891084Z",
     "start_time": "2023-04-19T02:49:31.840787Z"
    }
   },
   "outputs": [],
   "source": [
    "# Could wrap the following into a function\n",
    "def create_cartesian(df):\n",
    "    \"\"\"\n",
    "    Creates a data frame of the possible Origin / Destination pairs\n",
    "\n",
    "    \"\"\"\n",
    "    origins = df # [['location']].drop_duplicates()\n",
    "    destinations = df #[['location']].drop_duplicates()\n",
    "    combinations = origins.merge(destinations, how='cross')\n",
    "    return combinations\n",
    "origin_destination_pairs = create_cartesian(lat_long_data)"
   ]
  },
  {
   "cell_type": "code",
   "execution_count": 7,
   "metadata": {
    "ExecuteTime": {
     "end_time": "2023-04-19T02:49:33.227291Z",
     "start_time": "2023-04-19T02:49:33.072587Z"
    }
   },
   "outputs": [],
   "source": [
    "# Could wrap the following into this function instead\n",
    "def calculate_distances(df):\n",
    "    \"\"\"\n",
    "    Utilize haversine_distance() and the df for origin / destination pairs\n",
    "    \n",
    "    Calculate the distances between all origin / destination pairs\n",
    "    \"\"\"\n",
    "    df['distance'] = df\\\n",
    "    .apply(lambda x: haversine_distance(x['latitude_x'],\n",
    "                   x['longitude_x'],\n",
    "                   x['latitude_y'],\n",
    "                   x['longitude_y']),\n",
    "          axis=1)\n",
    "\n",
    "    # For shipments within a city, set the distance to 10 miles\n",
    "    df['distance'] = np.where(\n",
    "        df['location_x']==df['location_y'],\n",
    "        10,\n",
    "        df['distance']\n",
    "    )\n",
    "    # Choosing not to remove the shipments within a city\n",
    "    # combinations = combinations[combinations['distance']>0]\\\n",
    "    #  .reset_index(drop=True)\n",
    "    return df \n",
    "\n",
    "distance_between_od_pairs = calculate_distances(origin_destination_pairs)"
   ]
  },
  {
   "cell_type": "markdown",
   "metadata": {},
   "source": [
    "## Scenarios / Greenhouse gas calculations\n",
    "Create shipments for scenarios, and assumptions:\n",
    "* 0.36 grams co2e per mile for parcels shipments or LTL shipments\n",
    "* 400 parcels per truck / shipment\n",
    "* DC footprint - 443,000 grams co2e per day"
   ]
  },
  {
   "cell_type": "markdown",
   "metadata": {},
   "source": [
    "### One Distribution Center"
   ]
  },
  {
   "cell_type": "code",
   "execution_count": 8,
   "metadata": {
    "ExecuteTime": {
     "end_time": "2023-04-19T02:49:35.888764Z",
     "start_time": "2023-04-19T02:49:35.810843Z"
    }
   },
   "outputs": [
    {
     "name": "stdout",
     "output_type": "stream",
     "text": [
      "466759\n",
      "23759\n"
     ]
    },
    {
     "name": "stderr",
     "output_type": "stream",
     "text": [
      "<ipython-input-8-268d98f3decf>:8: SettingWithCopyWarning: \n",
      "A value is trying to be set on a copy of a slice from a DataFrame.\n",
      "Try using .loc[row_indexer,col_indexer] = value instead\n",
      "\n",
      "See the caveats in the documentation: https://pandas.pydata.org/pandas-docs/stable/user_guide/indexing.html#returning-a-view-versus-a-copy\n",
      "  scen1['co2e_shipment'] = scen1['distance'] * co2e_per_mile\n"
     ]
    }
   ],
   "source": [
    "# Scenario 1: Memphis Only\n",
    "# Distribution Center at Memphis\n",
    "# 1 daily shipment to each of the 50 cities\n",
    "scen1 = distance_between_od_pairs[\n",
    "    distance_between_od_pairs['location_x']=='Memphis, TN, USA']\n",
    "co2e_per_mile = 0.36\n",
    "co2e_for_facility = 443000\n",
    "scen1['co2e_shipment'] = scen1['distance'] * co2e_per_mile\n",
    "\n",
    "# Total co2e \n",
    "print(round(sum(scen1['co2e_shipment']) + co2e_for_facility)) \n",
    "# ~466,759 co2e\n",
    "# Print co2e from transportation\n",
    "print(round(sum(scen1['co2e_shipment']))) # 23,759"
   ]
  },
  {
   "cell_type": "code",
   "execution_count": 9,
   "metadata": {
    "ExecuteTime": {
     "end_time": "2023-04-19T02:49:38.039639Z",
     "start_time": "2023-04-19T02:49:38.032927Z"
    }
   },
   "outputs": [
    {
     "name": "stdout",
     "output_type": "stream",
     "text": [
      "466197\n",
      "23197\n"
     ]
    },
    {
     "name": "stderr",
     "output_type": "stream",
     "text": [
      "<ipython-input-9-7e438557ccbf>:8: SettingWithCopyWarning: \n",
      "A value is trying to be set on a copy of a slice from a DataFrame.\n",
      "Try using .loc[row_indexer,col_indexer] = value instead\n",
      "\n",
      "See the caveats in the documentation: https://pandas.pydata.org/pandas-docs/stable/user_guide/indexing.html#returning-a-view-versus-a-copy\n",
      "  scen2['co2e_shipment'] = scen2['distance'] * co2e_per_mile\n"
     ]
    }
   ],
   "source": [
    "# Scenario 2: St Louis Only\n",
    "# Distribution Center at St Louis\n",
    "# 1 daily shipment to each of the 50 cities\n",
    "scen2 = distance_between_od_pairs[\n",
    "    distance_between_od_pairs['location_x']=='St. Louis, MO, USA']\n",
    "co2e_per_mile = 0.36\n",
    "co2e_for_facility_daily = 443000\n",
    "scen2['co2e_shipment'] = scen2['distance'] * co2e_per_mile\n",
    "\n",
    "# Total co2e \n",
    "print(round(sum(scen2['co2e_shipment']) + co2e_for_facility_daily)) \n",
    "# ~466,196 co2e\n",
    "# Print co2e from transportation\n",
    "print(round(sum(scen2['co2e_shipment']))) # 23,197"
   ]
  },
  {
   "cell_type": "code",
   "execution_count": 10,
   "metadata": {
    "ExecuteTime": {
     "end_time": "2023-04-19T02:49:38.619003Z",
     "start_time": "2023-04-19T02:49:38.609204Z"
    }
   },
   "outputs": [
    {
     "name": "stdout",
     "output_type": "stream",
     "text": [
      "494124\n",
      "51124\n"
     ]
    },
    {
     "name": "stderr",
     "output_type": "stream",
     "text": [
      "<ipython-input-10-99534e70af69>:9: SettingWithCopyWarning: \n",
      "A value is trying to be set on a copy of a slice from a DataFrame.\n",
      "Try using .loc[row_indexer,col_indexer] = value instead\n",
      "\n",
      "See the caveats in the documentation: https://pandas.pydata.org/pandas-docs/stable/user_guide/indexing.html#returning-a-view-versus-a-copy\n",
      "  scen3['co2e_shipment'] = scen3['distance'] * co2e_per_mile\n"
     ]
    }
   ],
   "source": [
    "# Scenario 3: Seattle Only\n",
    "# Distribution Center at Seattle (probably the worst choice)\n",
    "# 1 daily shipment to each of the 50 cities\n",
    "scen3 = distance_between_od_pairs[\n",
    "    distance_between_od_pairs['location_x']=='Seattle, WA, USA']\n",
    "\n",
    "co2e_per_mile = 0.36\n",
    "co2e_for_facility_daily = 443000\n",
    "scen3['co2e_shipment'] = scen3['distance'] * co2e_per_mile\n",
    "\n",
    "# Total co2e \n",
    "print(round(sum(scen3['co2e_shipment']) + co2e_for_facility_daily)) \n",
    "# ~494,124 co2e\n",
    "# Print co2e from transportation\n",
    "print(round(sum(scen3['co2e_shipment']))) # 51,124"
   ]
  },
  {
   "cell_type": "code",
   "execution_count": 11,
   "metadata": {
    "ExecuteTime": {
     "end_time": "2023-04-19T02:49:39.332459Z",
     "start_time": "2023-04-19T02:49:39.325265Z"
    }
   },
   "outputs": [
    {
     "name": "stdout",
     "output_type": "stream",
     "text": [
      "0.056518201908832603\n",
      "0.059903860385201964\n"
     ]
    }
   ],
   "source": [
    "print((494124 - 466197) / 494124)\n",
    "print((494124 - 466197) / 466197)"
   ]
  },
  {
   "cell_type": "markdown",
   "metadata": {},
   "source": [
    "### Three Distribution Centers"
   ]
  },
  {
   "cell_type": "code",
   "execution_count": 12,
   "metadata": {
    "ExecuteTime": {
     "end_time": "2023-04-19T02:49:41.099916Z",
     "start_time": "2023-04-19T02:49:41.093072Z"
    }
   },
   "outputs": [],
   "source": [
    "# Scenario 4: Riverside, Houston, and Columbus\n",
    "# Distribution Center at Seattle (probably the worst choice)\n",
    "# 1 daily shipment to each of the 50 cities\n",
    "s4 = distance_between_od_pairs[\n",
    "    (distance_between_od_pairs['location_x']=='Riverside, CA, USA') | \n",
    "    (distance_between_od_pairs['location_x']=='Houston, TX, USA') | \n",
    "    (distance_between_od_pairs['location_x']=='Columbus, OH, USA')\n",
    "]"
   ]
  },
  {
   "cell_type": "code",
   "execution_count": 13,
   "metadata": {
    "ExecuteTime": {
     "end_time": "2023-04-19T02:49:41.788357Z",
     "start_time": "2023-04-19T02:49:41.780868Z"
    }
   },
   "outputs": [
    {
     "name": "stdout",
     "output_type": "stream",
     "text": [
      "Average facility size: 255766\n"
     ]
    }
   ],
   "source": [
    "co2e_per_mile = 0.36\n",
    "co2e_per_facility_daily = round(443000 / np.sqrt(3))\n",
    "print('Average facility size:', co2e_per_facility_daily)"
   ]
  },
  {
   "cell_type": "code",
   "execution_count": 18,
   "metadata": {
    "ExecuteTime": {
     "end_time": "2023-04-19T02:51:21.412846Z",
     "start_time": "2023-04-19T02:51:21.402625Z"
    }
   },
   "outputs": [],
   "source": [
    "# For each destination, use the closest facility\n",
    "scen4 = s4[['location_y', 'distance']]\\\n",
    "            .groupby(['location_y'], as_index=False)\\\n",
    "            .min()"
   ]
  },
  {
   "cell_type": "code",
   "execution_count": 19,
   "metadata": {
    "ExecuteTime": {
     "end_time": "2023-04-19T02:51:22.715356Z",
     "start_time": "2023-04-19T02:51:22.708066Z"
    }
   },
   "outputs": [
    {
     "name": "stdout",
     "output_type": "stream",
     "text": [
      "778617\n",
      "11319\n"
     ]
    }
   ],
   "source": [
    "scen4['co2e_shipment'] = scen4['distance'] * co2e_per_mile\n",
    "\n",
    "# Print Total co2e \n",
    "print(round(sum(scen4['co2e_shipment']) + (co2e_per_facility_daily * 3)) )\n",
    "# ~778,617 co2e\n",
    "# Print co2e from transportation\n",
    "print(round(sum(scen4['co2e_shipment']))) # 11,319"
   ]
  },
  {
   "cell_type": "code",
   "execution_count": null,
   "metadata": {},
   "outputs": [],
   "source": []
  }
 ],
 "metadata": {
  "kernelspec": {
   "display_name": "Python 3",
   "language": "python",
   "name": "python3"
  },
  "language_info": {
   "codemirror_mode": {
    "name": "ipython",
    "version": 3
   },
   "file_extension": ".py",
   "mimetype": "text/x-python",
   "name": "python",
   "nbconvert_exporter": "python",
   "pygments_lexer": "ipython3",
   "version": "3.8.3"
  },
  "toc": {
   "base_numbering": 1,
   "nav_menu": {},
   "number_sections": true,
   "sideBar": true,
   "skip_h1_title": false,
   "title_cell": "Table of Contents",
   "title_sidebar": "Contents",
   "toc_cell": false,
   "toc_position": {
    "height": "615px",
    "left": "49px",
    "top": "156px",
    "width": "222.391px"
   },
   "toc_section_display": true,
   "toc_window_display": false
  }
 },
 "nbformat": 4,
 "nbformat_minor": 4
}

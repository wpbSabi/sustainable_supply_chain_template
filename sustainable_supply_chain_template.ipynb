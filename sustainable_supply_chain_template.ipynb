{
 "cells": [
  {
   "cell_type": "markdown",
   "metadata": {},
   "source": [
    "For background information, refer to the ReadMe on github\n",
    "* https://github.com/wpbSabi/sustainable_supply_chain"
   ]
  },
  {
   "cell_type": "code",
   "execution_count": 1,
   "metadata": {
    "ExecuteTime": {
     "end_time": "2023-04-19T03:06:30.831302Z",
     "start_time": "2023-04-19T03:06:29.929471Z"
    }
   },
   "outputs": [],
   "source": [
    "# !pip install -U googlemaps \n",
    "import folium\n",
    "import numpy as np\n",
    "import pandas as pd\n",
    "import googlemaps"
   ]
  },
  {
   "cell_type": "markdown",
   "metadata": {},
   "source": [
    "# Data"
   ]
  },
  {
   "cell_type": "markdown",
   "metadata": {},
   "source": [
    "## Geocoding"
   ]
  },
  {
   "cell_type": "markdown",
   "metadata": {},
   "source": [
    "My first choice would have been to use geopy / nominatum to obtain latitudes and longitudes based on city names. However, there was an issue on April 8, 2023 with one of the services geopy relies on.  The good news is that on April 18, 2023 the service was running again.\n",
    "* https://geopy.readthedocs.io/en/stable/"
   ]
  },
  {
   "cell_type": "code",
   "execution_count": 2,
   "metadata": {
    "ExecuteTime": {
     "end_time": "2023-04-19T03:06:30.836691Z",
     "start_time": "2023-04-19T03:06:30.833644Z"
    }
   },
   "outputs": [],
   "source": [
    "# from geopy.geocoders import Nominatim # OpenStreetMap API for geocoding\n",
    "# geolocator = Nominatim(user_agent=\"april_8\")\n",
    "# city = \"Chicago\"\n",
    "# country = \"USA\"\n",
    "# loc = geolocator.geocode(city + ',' + country)\n",
    "# print(\"latitude is: \", loc.latitude, \"\\nlongtitude is:-\", loc.longitude)"
   ]
  },
  {
   "cell_type": "markdown",
   "metadata": {},
   "source": [
    "Instead, I signed up for a google maps api"
   ]
  },
  {
   "cell_type": "code",
   "execution_count": 3,
   "metadata": {
    "ExecuteTime": {
     "end_time": "2023-04-19T03:06:30.850458Z",
     "start_time": "2023-04-19T03:06:30.844116Z"
    }
   },
   "outputs": [],
   "source": [
    "# gmaps_key = googlemaps.Client(key='<YOUR_KEY_HERE')\n",
    "\n",
    "# # Import or set format for data\n",
    "# df = pd.read_csv('data/location_lat_long.csv')\n",
    "# # Create a list, to retrieve multiple locations at a time\n",
    "# list_of_cities = ['Salt Lake City, Utah',\n",
    "#                   'New Orleans, Louisiana',\n",
    "#                   'Hartford, Connecticut',\n",
    "#                   'Buffalo, New York',\n",
    "#                   'Birmingham, Alabama']\n",
    "# for city in list_of_cities:\n",
    "#     g = gmaps_key.geocode(city)\n",
    "#     address = g[0]['formatted_address']\n",
    "#     lat = g[0]['geometry']['location']['lat']\n",
    "#     long = g[0]['geometry']['location']['lng']\n",
    "#     df.loc[len(df), 'location'] = address\n",
    "#     df.loc[len(df) - 1, 'latitude'] = lat\n",
    "#     df.loc[len(df) - 1, 'longitude'] = long"
   ]
  },
  {
   "cell_type": "code",
   "execution_count": 4,
   "metadata": {
    "ExecuteTime": {
     "end_time": "2023-04-19T03:06:30.860217Z",
     "start_time": "2023-04-19T03:06:30.854163Z"
    }
   },
   "outputs": [],
   "source": [
    "# def map_locations(df):\n",
    "#     # Verify the new data by creating a map (or look at the df)\n",
    "#     m = folium.Map([40, -95],  zoom_start=4)\n",
    "#     # Add orange circles\n",
    "#     for i in range(len(df)): folium.CircleMarker(\n",
    "#         location=[df.iloc[i]['latitude'],\n",
    "#                 df.iloc[i]['longitude']],\n",
    "#         tooltip=df.iloc[i]['location'],\n",
    "#         color='orange',\n",
    "#         fill=True,\n",
    "#         fill_opacity=0.7,\n",
    "#         radius=5 # df.iloc[i]['demand_fix'] #5 #df.iloc[i]['Demand FY21']\n",
    "#         ).add_to(m)\n",
    "#     # To enable the toggle between map base layers\n",
    "#     folium.TileLayer('OpenStreetMap').add_to(m)\n",
    "#     folium.TileLayer('Stamen Terrain').add_to(m)\n",
    "#     folium.TileLayer('Stamen Toner').add_to(m)\n",
    "#     folium.TileLayer('Stamen Water Color').add_to(m)\n",
    "#     folium.TileLayer('CartoDB positron').add_to(m)\n",
    "#     folium.TileLayer('CartoDB dark_matter').add_to(m)\n",
    "#     folium.LayerControl().add_to(m)\n",
    "#     # m.save('images/python_folium_bubble_map.html')\n",
    "#     return m\n",
    "# map_locations(lat_long_data)"
   ]
  },
  {
   "cell_type": "code",
   "execution_count": 5,
   "metadata": {
    "ExecuteTime": {
     "end_time": "2023-04-19T03:06:30.869931Z",
     "start_time": "2023-04-19T03:06:30.865590Z"
    }
   },
   "outputs": [],
   "source": [
    "# Overwrite the data file with the updates\n",
    "# df.to_csv('data/location_lat_long.csv', index=False)"
   ]
  },
  {
   "cell_type": "markdown",
   "metadata": {},
   "source": [
    "## Greatest Circle Distance (GCD)"
   ]
  },
  {
   "cell_type": "code",
   "execution_count": 6,
   "metadata": {
    "ExecuteTime": {
     "end_time": "2023-04-19T03:06:30.894073Z",
     "start_time": "2023-04-19T03:06:30.873423Z"
    }
   },
   "outputs": [],
   "source": [
    "# Import the \n",
    "lat_long_data = pd.read_csv('data/location_lat_long.csv')\n",
    "\n",
    "# Create a data frame of the possible Origin / Destination pairs\n",
    "origins = lat_long_data.copy()\n",
    "destinations = lat_long_data.copy()\n",
    "origin_destination_pairs = origins.merge(destinations, how='cross')"
   ]
  },
  {
   "cell_type": "code",
   "execution_count": 7,
   "metadata": {
    "ExecuteTime": {
     "end_time": "2023-04-19T03:06:30.903876Z",
     "start_time": "2023-04-19T03:06:30.897692Z"
    }
   },
   "outputs": [],
   "source": [
    "def haversine_distance(lat1, lon1, lat2, lon2):\n",
    "    \"\"\"\n",
    "    Calculate the greatest circle distance between two points on Earth by \n",
    "        utilizing the haversine calculation via latitude and longitude data.\n",
    "    \"\"\"\n",
    "    r = 6371\n",
    "    phi1 = np.radians(lat1)\n",
    "    phi2 = np.radians(lat2)\n",
    "    delta_phi = np.radians(lat2 - lat1)\n",
    "    delta_lambda = np.radians(lon2 - lon1)\n",
    "    a = np.sin(delta_phi / 2) ** 2 \\\n",
    "        + np.cos(phi1) * np.cos(phi2) * np.sin(delta_lambda / 2) ** 2\n",
    "    res = r * (2 * np.arctan2(np.sqrt(a), np.sqrt(1 - a)))\n",
    "    return np.round(res, 2)"
   ]
  },
  {
   "cell_type": "code",
   "execution_count": 8,
   "metadata": {
    "ExecuteTime": {
     "end_time": "2023-04-19T03:06:30.922004Z",
     "start_time": "2023-04-19T03:06:30.911391Z"
    }
   },
   "outputs": [
    {
     "name": "stdout",
     "output_type": "stream",
     "text": [
      "location     Portland, OR, USA\n",
      "latitude             45.515232\n",
      "longitude          -122.678385\n",
      "Name: 0, dtype: object\n",
      "554.64\n"
     ]
    }
   ],
   "source": [
    "# Distance in miles from Portland to Boise, used in the greenhouse gas example\n",
    "print(lat_long_data.loc[0])\n",
    "print(haversine_distance(lat_long_data.loc[0, 'latitude'],\n",
    "                   lat_long_data.loc[0, 'longitude'],\n",
    "                   43.6150,\n",
    "                   -116.2023))"
   ]
  },
  {
   "cell_type": "code",
   "execution_count": 18,
   "metadata": {
    "ExecuteTime": {
     "end_time": "2023-04-19T03:12:58.604957Z",
     "start_time": "2023-04-19T03:12:58.451084Z"
    }
   },
   "outputs": [],
   "source": [
    "def calculate_distances(df):\n",
    "    \"\"\"\n",
    "    Utilize haversine_distance() and the df for origin / destination pairs\n",
    "    Calculate the distances between all origin / destination pairs\n",
    "    \"\"\"\n",
    "    df['distance'] = df\\\n",
    "    .apply(lambda x: haversine_distance(x['latitude_x'],\n",
    "                                        x['longitude_x'],\n",
    "                                        x['latitude_y'],\n",
    "                                        x['longitude_y']), axis=1)\n",
    "    # For shipments within a city, set the distance to 10 miles\n",
    "    df['distance'] = np.where(df['location_x']==df['location_y'],\n",
    "                              10,\n",
    "                              df['distance'])\n",
    "    return df \n",
    "distance_between_od_pairs = calculate_distances(origin_destination_pairs)"
   ]
  },
  {
   "cell_type": "markdown",
   "metadata": {},
   "source": [
    "## Scenarios / Greenhouse gas calculations\n",
    "Create shipments for scenarios, and assumptions:\n",
    "* 0.36 grams co2e per mile for parcels shipments or LTL shipments\n",
    "* 400 parcels per truck / shipment\n",
    "* DC footprint - 443,000 grams co2e per day"
   ]
  },
  {
   "cell_type": "markdown",
   "metadata": {},
   "source": [
    "### One Distribution Center"
   ]
  },
  {
   "cell_type": "code",
   "execution_count": 75,
   "metadata": {
    "ExecuteTime": {
     "end_time": "2023-04-19T04:17:31.178173Z",
     "start_time": "2023-04-19T04:17:31.172467Z"
    }
   },
   "outputs": [],
   "source": [
    "def footprint_for_one_dc(df):\n",
    "    \"\"\"\n",
    "    Return the emissions from one daily shipment to each of the 50 cities\n",
    "    Returns total emissions and transport emissions in kg co2e\n",
    "    \"\"\"\n",
    "    co2e_per_mile_per_truck = 0.36 # grams of co2e for LTL truck\n",
    "    co2e_for_facility = 443000 # grams of co2e, average distribution center\n",
    "    df = df.assign(co2e_shipment = df['distance'] * co2e_per_mile_per_truck)\n",
    "    total_kg_co2e = round(sum(df['co2e_shipment']) + co2e_for_facility)\n",
    "    transport_kg_co2e = round(sum(df['co2e_shipment']) )\n",
    "    return round(total_kg_co2e / 1000), round(transport_kg_co2e / 1000)"
   ]
  },
  {
   "cell_type": "code",
   "execution_count": 76,
   "metadata": {
    "ExecuteTime": {
     "end_time": "2023-04-19T04:17:32.872709Z",
     "start_time": "2023-04-19T04:17:32.864847Z"
    }
   },
   "outputs": [
    {
     "data": {
      "text/plain": [
       "(467, 24)"
      ]
     },
     "execution_count": 76,
     "metadata": {},
     "output_type": "execute_result"
    }
   ],
   "source": [
    "# Scenario 1: Distribution Center at Memphis\n",
    "scen1 = distance_between_od_pairs[\n",
    "    distance_between_od_pairs['location_x']=='Memphis, TN, USA']\n",
    "footprint_for_one_dc(scen1)"
   ]
  },
  {
   "cell_type": "code",
   "execution_count": 77,
   "metadata": {
    "ExecuteTime": {
     "end_time": "2023-04-19T04:17:50.455883Z",
     "start_time": "2023-04-19T04:17:50.446687Z"
    }
   },
   "outputs": [
    {
     "data": {
      "text/plain": [
       "(466, 23)"
      ]
     },
     "execution_count": 77,
     "metadata": {},
     "output_type": "execute_result"
    }
   ],
   "source": [
    "# Scenario 2: Distribution Center at St Louis\n",
    "scen2 = distance_between_od_pairs[\n",
    "    distance_between_od_pairs['location_x']=='St. Louis, MO, USA']\n",
    "footprint_for_one_dc(scen2)"
   ]
  },
  {
   "cell_type": "code",
   "execution_count": 78,
   "metadata": {
    "ExecuteTime": {
     "end_time": "2023-04-19T04:17:54.608668Z",
     "start_time": "2023-04-19T04:17:54.598370Z"
    }
   },
   "outputs": [
    {
     "data": {
      "text/plain": [
       "(494, 51)"
      ]
     },
     "execution_count": 78,
     "metadata": {},
     "output_type": "execute_result"
    }
   ],
   "source": [
    "# Scenario 3: Distribution Center at Seattle (probably the worst choice)\n",
    "scen3 = distance_between_od_pairs[\n",
    "    distance_between_od_pairs['location_x']=='Seattle, WA, USA']\n",
    "footprint_for_one_dc(scen3)"
   ]
  },
  {
   "cell_type": "code",
   "execution_count": 79,
   "metadata": {
    "ExecuteTime": {
     "end_time": "2023-04-19T04:18:20.331695Z",
     "start_time": "2023-04-19T04:18:20.325392Z"
    }
   },
   "outputs": [
    {
     "name": "stdout",
     "output_type": "stream",
     "text": [
      "0.05668016194331984\n",
      "0.060085836909871244\n"
     ]
    }
   ],
   "source": [
    "print((494 - 466) / 494)\n",
    "print((494 - 466) / 466)"
   ]
  },
  {
   "cell_type": "markdown",
   "metadata": {},
   "source": [
    "### Three Distribution Centers"
   ]
  },
  {
   "cell_type": "code",
   "execution_count": 83,
   "metadata": {
    "ExecuteTime": {
     "end_time": "2023-04-19T04:19:11.749707Z",
     "start_time": "2023-04-19T04:19:11.743794Z"
    }
   },
   "outputs": [],
   "source": [
    "# Scenario 4: Riverside, Houston, and Columbus\n",
    "# Distribution Center at Seattle (probably the worst choice)\n",
    "# 1 daily shipment to each of the 50 cities\n",
    "s4 = distance_between_od_pairs[\n",
    "    (distance_between_od_pairs['location_x']=='Riverside, CA, USA') | \n",
    "    (distance_between_od_pairs['location_x']=='Houston, TX, USA') | \n",
    "    (distance_between_od_pairs['location_x']=='Columbus, OH, USA')\n",
    "]"
   ]
  },
  {
   "cell_type": "code",
   "execution_count": 84,
   "metadata": {
    "ExecuteTime": {
     "end_time": "2023-04-19T04:19:12.226126Z",
     "start_time": "2023-04-19T04:19:12.219120Z"
    }
   },
   "outputs": [
    {
     "name": "stdout",
     "output_type": "stream",
     "text": [
      "Average facility size: 255766\n"
     ]
    }
   ],
   "source": [
    "co2e_per_mile_per_truck = 0.36 # grams of co2e for LTL truck\n",
    "co2e_per_facility_daily = round(443000 / np.sqrt(3))\n",
    "print('Average facility size:', co2e_per_facility_daily)"
   ]
  },
  {
   "cell_type": "code",
   "execution_count": 85,
   "metadata": {
    "ExecuteTime": {
     "end_time": "2023-04-19T04:19:12.824086Z",
     "start_time": "2023-04-19T04:19:12.815156Z"
    }
   },
   "outputs": [],
   "source": [
    "# For each destination, use the closest facility\n",
    "scen4 = s4[['location_y', 'distance']]\\\n",
    "            .groupby(['location_y'], as_index=False)\\\n",
    "            .min()"
   ]
  },
  {
   "cell_type": "code",
   "execution_count": 86,
   "metadata": {
    "ExecuteTime": {
     "end_time": "2023-04-19T04:19:14.390868Z",
     "start_time": "2023-04-19T04:19:14.383353Z"
    }
   },
   "outputs": [
    {
     "name": "stdout",
     "output_type": "stream",
     "text": [
      "779\n",
      "11\n"
     ]
    }
   ],
   "source": [
    "scen4['co2e_shipment'] = scen4['distance'] * co2e_per_mile_per_truck\n",
    "\n",
    "# Print Total kg co2e \n",
    "print(round(round(\n",
    "    sum(scen4['co2e_shipment']) + (co2e_per_facility_daily * 3)) / 1000))\n",
    "# Print kg co2e from transportation\n",
    "print(round(sum(scen4['co2e_shipment']) / 1000))"
   ]
  },
  {
   "cell_type": "code",
   "execution_count": null,
   "metadata": {},
   "outputs": [],
   "source": []
  },
  {
   "cell_type": "code",
   "execution_count": null,
   "metadata": {},
   "outputs": [],
   "source": []
  }
 ],
 "metadata": {
  "kernelspec": {
   "display_name": "Python 3",
   "language": "python",
   "name": "python3"
  },
  "language_info": {
   "codemirror_mode": {
    "name": "ipython",
    "version": 3
   },
   "file_extension": ".py",
   "mimetype": "text/x-python",
   "name": "python",
   "nbconvert_exporter": "python",
   "pygments_lexer": "ipython3",
   "version": "3.8.3"
  },
  "toc": {
   "base_numbering": 1,
   "nav_menu": {},
   "number_sections": true,
   "sideBar": true,
   "skip_h1_title": false,
   "title_cell": "Table of Contents",
   "title_sidebar": "Contents",
   "toc_cell": false,
   "toc_position": {
    "height": "615px",
    "left": "49px",
    "top": "156px",
    "width": "222.391px"
   },
   "toc_section_display": true,
   "toc_window_display": false
  }
 },
 "nbformat": 4,
 "nbformat_minor": 4
}
